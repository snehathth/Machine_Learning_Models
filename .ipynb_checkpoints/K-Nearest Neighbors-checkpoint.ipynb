{
 "cells": [
  {
   "cell_type": "markdown",
   "metadata": {},
   "source": [
    "# K Nearest Neighbors Classifiers\n",
    "\n",
    "A classification "
   ]
  },
  {
   "cell_type": "markdown",
   "metadata": {},
   "source": [
    "# Yelp Recommendation Engine\n",
    "\n",
    "Yelp releases their data for academic purposes and challenges the students community to come up with ideas that can help evolve the company. We are breaking the dataset into a small chunk and creating a recommendation system that will help the user choose the restuarant based on a few choices they have in a particular city. \n",
    "\n",
    "## Exploratory Analysis\n",
    "\n",
    "### For Business\n",
    "\n",
    "#### We need to come up with an accepted range of data as the downloaded yelp dataset contains 10,000,000 rows and we do not have the capacity to run analysis on these many rows.\n",
    "\n",
    "* Identify the right Category\n",
    "* Idenitfy the right City\n",
    "* Identify the relevant reviews\n",
    "\n",
    "\n",
    "**Step 1:** Importing Libraries for exploration"
   ]
  },
  {
   "cell_type": "code",
   "execution_count": 1,
   "metadata": {},
   "outputs": [],
   "source": [
    "import pandas as pd\n",
    "import numpy as np"
   ]
  },
  {
   "cell_type": "code",
   "execution_count": 2,
   "metadata": {},
   "outputs": [],
   "source": [
    "df = pd.read_json(\"yelp_academic_dataset_business.json\", lines=True)"
   ]
  },
  {
   "cell_type": "code",
   "execution_count": 3,
   "metadata": {},
   "outputs": [],
   "source": [
    "df_focus = df[(df['categories'].str.contains('Restaurants') == True) & df['city'].str.contains('Las Vegas') == True]"
   ]
  },
  {
   "cell_type": "code",
   "execution_count": 11,
   "metadata": {},
   "outputs": [
    {
     "data": {
      "text/plain": [
       "Index(['business_id', 'name', 'address', 'city', 'state', 'postal_code',\n",
       "       'latitude', 'longitude', 'stars', 'review_count', 'is_open',\n",
       "       'attributes', 'categories', 'hours'],\n",
       "      dtype='object')"
      ]
     },
     "execution_count": 11,
     "metadata": {},
     "output_type": "execute_result"
    }
   ],
   "source": [
    "df_focus.columns"
   ]
  },
  {
   "cell_type": "code",
   "execution_count": 17,
   "metadata": {},
   "outputs": [],
   "source": [
    "df_b = df_focus.reset_index()"
   ]
  },
  {
   "cell_type": "code",
   "execution_count": 19,
   "metadata": {},
   "outputs": [],
   "source": [
    "for i,x in df_b.iterrows():\n",
    "    try:\n",
    "        df_b.loc[i, 'pricerange'] = df_b.loc[i].attributes['RestaurantsPriceRange2']\n",
    "        if df_b.loc[i, 'pricerange'] == 'None':\n",
    "            df_b.loc[i, 'pricerange'] = 0\n",
    "    except:\n",
    "        df_b.loc[i, 'pricerange'] = 0\n",
    "for i,x in df_b.iterrows():\n",
    "    try:\n",
    "        df_b.loc[i, 'OutdoorSeating'] = df_b.loc[i].attributes['OutdoorSeating']\n",
    "        if df_b.loc[i, 'OutdoorSeating'] == 'None':\n",
    "            df_b.loc[i, 'OutdoorSeating'] = 0\n",
    "        else:\n",
    "            df_b.loc[i, 'OutdoorSeating'] = 1\n",
    "    except:\n",
    "        df_b.loc[i, 'OutdoorSeating'] = 0\n",
    "\n",
    "for i,x in df_b.iterrows():\n",
    "    try:\n",
    "        df_b.loc[i, 'WiFi'] = df_b.loc[i].attributes['WiFi']\n",
    "        if df_b.loc[i, 'WiFi'] == \"u'no'\":\n",
    "            df_b.loc[i, 'WiFi'] = 'None'\n",
    "        elif df_b.loc[i, 'WiFi'] == \"'no'\":\n",
    "            df_b.loc[i, 'WiFi'] = 'None'\n",
    "        elif df_b.loc[i, 'WiFi'] == \"'free'\":\n",
    "            df_b.loc[i, 'WiFi'] = 'Free'\n",
    "        elif df_b.loc[i, 'WiFi'] == \"u'free'\":\n",
    "            df_b.loc[i, 'WiFi'] = 'Free'\n",
    "        elif df_b.loc[i, 'WiFi'] == \"'paid'\":\n",
    "            df_b.loc[i, 'WiFi'] = 'Paid'\n",
    "        elif df_b.loc[i, 'WiFi'] == \"u'paid'\":\n",
    "            df_b.loc[i, 'WiFi'] = 'Paid'\n",
    "    except:\n",
    "        df_b.loc[i, 'WiFi'] = 'None'\n",
    "        \n",
    "for i,x in df_b.iterrows():\n",
    "    try:\n",
    "        df_b.loc[i, 'GoodForKids'] = df_b.loc[i].attributes['GoodForKids']\n",
    "        if df_b.loc[i, 'GoodForKids'] == 'None':\n",
    "            df_b.loc[i, 'GoodForKids'] = 0\n",
    "        else:\n",
    "            df_b.loc[i, 'GoodForKids'] = 1\n",
    "    except:\n",
    "        df_b.loc[i, 'GoodForKids'] = 0\n",
    "\n",
    "for i,x in df_b.iterrows():\n",
    "    try:\n",
    "        df_b.loc[i, 'Alcohol'] = df_b.loc[i].attributes['Alcohol']\n",
    "        if df_b.loc[i, 'Alcohol'] == 'None':\n",
    "            df_b.loc[i, 'Alcohol'] = 0\n",
    "        else:\n",
    "            df_b.loc[i, 'Alcohol'] = 1\n",
    "    except:\n",
    "        df_b.loc[i, 'Alcohol'] = 0\n",
    "for i,x in df_b.iterrows():\n",
    "    try:\n",
    "        df_b.loc[i, 'Delivery'] = df_b.loc[i].attributes['RestaurantsDelivery']\n",
    "        if df_b.loc[i, 'Delivery'] != 'True':\n",
    "            df_b.loc[i, 'Delivery'] = 0\n",
    "        else:\n",
    "            df_b.loc[i, 'Delivery'] = 1\n",
    "    except:\n",
    "        df_b.loc[i, 'Delivery'] = 0\n",
    "        \n",
    "for i,x in df_b.iterrows():\n",
    "    try:\n",
    "        df_b.loc[i, 'Takeout'] = df_b.loc[i].attributes['RestaurantsTakeOut']\n",
    "        if df_b.loc[i, 'Takeout'] != 'True':\n",
    "            df_b.loc[i, 'Takeout'] = 0\n",
    "        else:\n",
    "            df_b.loc[i, 'Takeout'] = 1\n",
    "    except:\n",
    "        df_b.loc[i, 'Takeout'] = 0\n",
    "        \n",
    "for i,x in df_b.iterrows():\n",
    "    try:\n",
    "        df_b.loc[i, 'Reservations'] = df_b.loc[i].attributes['RestaurantsReservations']\n",
    "        if df_b.loc[i, 'Reservations'] != 'True':\n",
    "            df_b.loc[i, 'Reservations'] = 0\n",
    "        else:\n",
    "            df_b.loc[i, 'Reservations'] = 1\n",
    "    except:\n",
    "        df_b.loc[i, 'Reservations'] = 0\n",
    "for i,x in df_b.iterrows():\n",
    "    try:\n",
    "        df_b.loc[i, 'GoodforGroups'] = df_b.loc[i].attributes['RestaurantsGoodForGroups']\n",
    "        if df_b.loc[i, 'GoodforGroups'] != 'True':\n",
    "            df_b.loc[i, 'GoodforGroups'] = 0\n",
    "        else: \n",
    "            df_b.loc[i, 'GoodforGroups'] = 1\n",
    "    except:\n",
    "        df_b.loc[i, 'GoodforGroups'] = 0"
   ]
  },
  {
   "cell_type": "code",
   "execution_count": 21,
   "metadata": {},
   "outputs": [
    {
     "data": {
      "text/plain": [
       "Index(['level_0', 'index', 'business_id', 'name', 'address', 'city', 'state',\n",
       "       'postal_code', 'latitude', 'longitude', 'stars', 'review_count',\n",
       "       'is_open', 'attributes', 'categories', 'hours', 'pricerange',\n",
       "       'OutdoorSeating', 'WiFi', 'GoodForKids', 'Alcohol', 'Delivery',\n",
       "       'Takeout', 'Reservations', 'GoodforGroups'],\n",
       "      dtype='object')"
      ]
     },
     "execution_count": 21,
     "metadata": {},
     "output_type": "execute_result"
    }
   ],
   "source": [
    "df_b.columns"
   ]
  },
  {
   "cell_type": "code",
   "execution_count": 22,
   "metadata": {},
   "outputs": [],
   "source": [
    "df_b = df_b[['name','stars', 'review_count', 'pricerange',\n",
    "       'OutdoorSeating', 'WiFi', 'GoodForKids', 'Alcohol', 'Delivery',\n",
    "       'Takeout', 'Reservations', 'GoodforGroups' ]]"
   ]
  },
  {
   "cell_type": "code",
   "execution_count": 28,
   "metadata": {},
   "outputs": [
    {
     "data": {
      "text/html": [
       "<div>\n",
       "<style scoped>\n",
       "    .dataframe tbody tr th:only-of-type {\n",
       "        vertical-align: middle;\n",
       "    }\n",
       "\n",
       "    .dataframe tbody tr th {\n",
       "        vertical-align: top;\n",
       "    }\n",
       "\n",
       "    .dataframe thead th {\n",
       "        text-align: right;\n",
       "    }\n",
       "</style>\n",
       "<table border=\"1\" class=\"dataframe\">\n",
       "  <thead>\n",
       "    <tr style=\"text-align: right;\">\n",
       "      <th></th>\n",
       "      <th>name</th>\n",
       "      <th>stars</th>\n",
       "      <th>review_count</th>\n",
       "      <th>pricerange</th>\n",
       "      <th>OutdoorSeating</th>\n",
       "      <th>WiFi</th>\n",
       "      <th>GoodForKids</th>\n",
       "      <th>Alcohol</th>\n",
       "      <th>Delivery</th>\n",
       "      <th>Takeout</th>\n",
       "      <th>Reservations</th>\n",
       "      <th>GoodforGroups</th>\n",
       "    </tr>\n",
       "  </thead>\n",
       "  <tbody>\n",
       "    <tr>\n",
       "      <td>0</td>\n",
       "      <td>Carluccio's Tivoli Gardens</td>\n",
       "      <td>4.0</td>\n",
       "      <td>40</td>\n",
       "      <td>2</td>\n",
       "      <td>1</td>\n",
       "      <td>1</td>\n",
       "      <td>1</td>\n",
       "      <td>1</td>\n",
       "      <td>0</td>\n",
       "      <td>1</td>\n",
       "      <td>1</td>\n",
       "      <td>1</td>\n",
       "    </tr>\n",
       "    <tr>\n",
       "      <td>1</td>\n",
       "      <td>Maria's Mexican Restaurant &amp; Bakery</td>\n",
       "      <td>4.5</td>\n",
       "      <td>184</td>\n",
       "      <td>1</td>\n",
       "      <td>1</td>\n",
       "      <td>1</td>\n",
       "      <td>1</td>\n",
       "      <td>1</td>\n",
       "      <td>0</td>\n",
       "      <td>1</td>\n",
       "      <td>0</td>\n",
       "      <td>1</td>\n",
       "    </tr>\n",
       "    <tr>\n",
       "      <td>2</td>\n",
       "      <td>Dairy Queen</td>\n",
       "      <td>2.0</td>\n",
       "      <td>33</td>\n",
       "      <td>1</td>\n",
       "      <td>1</td>\n",
       "      <td>1</td>\n",
       "      <td>1</td>\n",
       "      <td>1</td>\n",
       "      <td>0</td>\n",
       "      <td>1</td>\n",
       "      <td>0</td>\n",
       "      <td>1</td>\n",
       "    </tr>\n",
       "    <tr>\n",
       "      <td>3</td>\n",
       "      <td>Imperial Asian Buffet</td>\n",
       "      <td>2.0</td>\n",
       "      <td>4</td>\n",
       "      <td>0</td>\n",
       "      <td>0</td>\n",
       "      <td>1</td>\n",
       "      <td>0</td>\n",
       "      <td>0</td>\n",
       "      <td>0</td>\n",
       "      <td>0</td>\n",
       "      <td>0</td>\n",
       "      <td>0</td>\n",
       "    </tr>\n",
       "    <tr>\n",
       "      <td>4</td>\n",
       "      <td>Artisan Fine Dining Room</td>\n",
       "      <td>2.0</td>\n",
       "      <td>3</td>\n",
       "      <td>4</td>\n",
       "      <td>1</td>\n",
       "      <td>1</td>\n",
       "      <td>1</td>\n",
       "      <td>1</td>\n",
       "      <td>0</td>\n",
       "      <td>0</td>\n",
       "      <td>1</td>\n",
       "      <td>1</td>\n",
       "    </tr>\n",
       "  </tbody>\n",
       "</table>\n",
       "</div>"
      ],
      "text/plain": [
       "                                  name  stars  review_count pricerange  \\\n",
       "0           Carluccio's Tivoli Gardens    4.0            40          2   \n",
       "1  Maria's Mexican Restaurant & Bakery    4.5           184          1   \n",
       "2                          Dairy Queen    2.0            33          1   \n",
       "3                Imperial Asian Buffet    2.0             4          0   \n",
       "4             Artisan Fine Dining Room    2.0             3          4   \n",
       "\n",
       "   OutdoorSeating  WiFi  GoodForKids  Alcohol  Delivery  Takeout  \\\n",
       "0               1     1            1        1         0        1   \n",
       "1               1     1            1        1         0        1   \n",
       "2               1     1            1        1         0        1   \n",
       "3               0     1            0        0         0        0   \n",
       "4               1     1            1        1         0        0   \n",
       "\n",
       "   Reservations  GoodforGroups  \n",
       "0             1              1  \n",
       "1             0              1  \n",
       "2             0              1  \n",
       "3             0              0  \n",
       "4             1              1  "
      ]
     },
     "execution_count": 28,
     "metadata": {},
     "output_type": "execute_result"
    }
   ],
   "source": [
    "df_b.head()"
   ]
  },
  {
   "cell_type": "code",
   "execution_count": 30,
   "metadata": {},
   "outputs": [
    {
     "data": {
      "text/plain": [
       "array(['2', '1', 0, '4', '3', 'None'], dtype=object)"
      ]
     },
     "execution_count": 30,
     "metadata": {},
     "output_type": "execute_result"
    }
   ],
   "source": [
    "df_b.pricerange.unique()"
   ]
  },
  {
   "cell_type": "code",
   "execution_count": 25,
   "metadata": {},
   "outputs": [],
   "source": [
    "from sklearn.preprocessing import LabelEncoder"
   ]
  },
  {
   "cell_type": "code",
   "execution_count": 27,
   "metadata": {},
   "outputs": [
    {
     "name": "stderr",
     "output_type": "stream",
     "text": [
      "C:\\Python\\lib\\site-packages\\pandas\\core\\indexing.py:494: SettingWithCopyWarning: \n",
      "A value is trying to be set on a copy of a slice from a DataFrame.\n",
      "Try using .loc[row_indexer,col_indexer] = value instead\n",
      "\n",
      "See the caveats in the documentation: http://pandas.pydata.org/pandas-docs/stable/user_guide/indexing.html#returning-a-view-versus-a-copy\n",
      "  self.obj[item] = s\n"
     ]
    }
   ],
   "source": [
    "labelencoder_wifi = LabelEncoder()\n",
    "df_b.loc[ : ,'WiFi'] = labelencoder_wifi.fit_transform(df_b['WiFi'])"
   ]
  },
  {
   "cell_type": "code",
   "execution_count": 31,
   "metadata": {},
   "outputs": [],
   "source": [
    "df_b = df_b[df_b['pricerange'] != 0]"
   ]
  },
  {
   "cell_type": "code",
   "execution_count": 32,
   "metadata": {},
   "outputs": [
    {
     "name": "stdout",
     "output_type": "stream",
     "text": [
      "<class 'pandas.core.frame.DataFrame'>\n",
      "Int64Index: 6303 entries, 0 to 6811\n",
      "Data columns (total 12 columns):\n",
      "name              6303 non-null object\n",
      "stars             6303 non-null float64\n",
      "review_count      6303 non-null int64\n",
      "pricerange        6303 non-null object\n",
      "OutdoorSeating    6303 non-null int64\n",
      "WiFi              6303 non-null int64\n",
      "GoodForKids       6303 non-null int64\n",
      "Alcohol           6303 non-null int64\n",
      "Delivery          6303 non-null int64\n",
      "Takeout           6303 non-null int64\n",
      "Reservations      6303 non-null int64\n",
      "GoodforGroups     6303 non-null int64\n",
      "dtypes: float64(1), int64(9), object(2)\n",
      "memory usage: 640.1+ KB\n"
     ]
    }
   ],
   "source": [
    "df_b.info()"
   ]
  },
  {
   "cell_type": "code",
   "execution_count": 34,
   "metadata": {},
   "outputs": [],
   "source": [
    "x = df_b[['stars', 'review_count', \n",
    "       'OutdoorSeating', 'WiFi', 'GoodForKids', 'Alcohol', 'Delivery',\n",
    "       'Takeout', 'Reservations', 'GoodforGroups']]"
   ]
  },
  {
   "cell_type": "code",
   "execution_count": 36,
   "metadata": {},
   "outputs": [],
   "source": [
    "x = x.values"
   ]
  },
  {
   "cell_type": "code",
   "execution_count": 37,
   "metadata": {},
   "outputs": [
    {
     "data": {
      "text/plain": [
       "(6303, 10)"
      ]
     },
     "execution_count": 37,
     "metadata": {},
     "output_type": "execute_result"
    }
   ],
   "source": [
    "x.shape"
   ]
  },
  {
   "cell_type": "code",
   "execution_count": 38,
   "metadata": {},
   "outputs": [
    {
     "data": {
      "text/plain": [
       "(6303,)"
      ]
     },
     "execution_count": 38,
     "metadata": {},
     "output_type": "execute_result"
    }
   ],
   "source": [
    "y = df_b['pricerange'].values\n",
    "y.shape"
   ]
  },
  {
   "cell_type": "code",
   "execution_count": 39,
   "metadata": {},
   "outputs": [],
   "source": [
    "from sklearn.model_selection import train_test_split"
   ]
  },
  {
   "cell_type": "code",
   "execution_count": 40,
   "metadata": {},
   "outputs": [],
   "source": [
    "x_train, x_test, y_train, y_test = train_test_split(x,y, test_size = 0.25)"
   ]
  },
  {
   "cell_type": "code",
   "execution_count": 42,
   "metadata": {},
   "outputs": [
    {
     "data": {
      "text/plain": [
       "(4727, 10)"
      ]
     },
     "execution_count": 42,
     "metadata": {},
     "output_type": "execute_result"
    }
   ],
   "source": [
    "x_train.shape"
   ]
  }
 ],
 "metadata": {
  "kernelspec": {
   "display_name": "Python 3",
   "language": "python",
   "name": "python3"
  },
  "language_info": {
   "codemirror_mode": {
    "name": "ipython",
    "version": 3
   },
   "file_extension": ".py",
   "mimetype": "text/x-python",
   "name": "python",
   "nbconvert_exporter": "python",
   "pygments_lexer": "ipython3",
   "version": "3.7.4"
  }
 },
 "nbformat": 4,
 "nbformat_minor": 2
}
